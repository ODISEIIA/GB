{
  "nbformat": 4,
  "nbformat_minor": 0,
  "metadata": {
    "colab": {
      "name": "lab1mob.ipynb",
      "provenance": []
    },
    "kernelspec": {
      "name": "python3",
      "display_name": "Python 3"
    },
    "language_info": {
      "name": "python"
    }
  },
  "cells": [
    {
      "cell_type": "markdown",
      "metadata": {
        "id": "2zZaiO6S6wff"
      },
      "source": [
        "Лабораторная работа №1.\n",
        "\n",
        "Обработка и тарификация CDR (Call Detail Record)\n",
        "\n",
        "Вариант 5\n",
        "\n",
        "Ершова Ксения Александровна\n",
        "\n",
        "N33471\n"
      ]
    },
    {
      "cell_type": "markdown",
      "metadata": {
        "id": "YUccSZeZ8AAb"
      },
      "source": [
        "Импортируем библиотеки, которые мы будем использовать для парсинга."
      ]
    },
    {
      "cell_type": "code",
      "metadata": {
        "id": "tjGAvWDu7B3_"
      },
      "source": [
        "import pandas as pd\n",
        "from math import ceil\n"
      ],
      "execution_count": null,
      "outputs": []
    },
    {
      "cell_type": "markdown",
      "metadata": {
        "id": "5a2G7MNp8MmV"
      },
      "source": [
        "Объявим функцию, которая считает итоговую стоимость по звонкам и смс для абонента."
      ]
    },
    {
      "cell_type": "code",
      "metadata": {
        "id": "FNHyVM_48Ssr"
      },
      "source": [
        "def count_cost(\n",
        "         data, # Таблица с данными\n",
        "         phone_number, # Телефон абонента, для которого расчитываестя стоимость\n",
        "         k_outcoming, # Коэффициент исходящих звонков\n",
        "         k_incoming, # Коэффициент входящих звонков\n",
        "         free_sms_limit, # Лимит на бесплатные сообщения\n",
        "         k_sms): # Коэффициент смс\n",
        "         incoming_cost = sum(data[data[\"msisdn_dest\"] == phone_number] [\"call_duration\"]) * k_incoming # Считаем стоимость всех входящих звонков\n",
        "         outcoming_cost = sum(data[data[\"msisdn_origin\"] == phone_number] [\"call_duration\"]) * k_outcoming # Считаем стоимость всех исходящих звонков\n",
        "         sms_amount = sum(data[data[\"msisdn_origin\"] == phone_number] [\"sms_number\"]) # Считаем количество смс\n",
        "         sms_cost = max(0, sms_amount - free_sms_limit) * k_sms # Считаем стоимость всех смс\n",
        "         return sms_cost + outcoming_cost + incoming_cost # Возвращаем итоговую стоимость для абонента"
      ],
      "execution_count": null,
      "outputs": []
    },
    {
      "cell_type": "markdown",
      "metadata": {
        "id": "lAS7ocJN9aoV"
      },
      "source": [
        "Объявим переменные со значениями из варианта."
      ]
    },
    {
      "cell_type": "code",
      "metadata": {
        "id": "bvApTxMf8GZR"
      },
      "source": [
        "phone_number = \"915642913\"\n",
        "k_incoming = 1\n",
        "k_outcoming = 1\n",
        "free_sms_limit = 5\n",
        "k_sms = 1"
      ],
      "execution_count": null,
      "outputs": []
    },
    {
      "cell_type": "markdown",
      "metadata": {
        "id": "I8FSVS5JI7dZ"
      },
      "source": [
        "Вызовем объявленную раннее функцию для нашего варианта."
      ]
    },
    {
      "cell_type": "code",
      "metadata": {
        "colab": {
          "base_uri": "https://localhost:8080/"
        },
        "id": "kheEMQVsJEUN",
        "outputId": "1b41c491-2e7a-4dd5-948b-416add90eb6f"
      },
      "source": [
        "data = pd.read_csv(\"data.csv\", dtype = {\"msisdn_dest\": str, \"msisdn_origin\":str})\n",
        "data\n",
        "count_cost (data, phone_number, k_outcoming, k_incoming, free_sms_limit, k_sms)"
      ],
      "execution_count": null,
      "outputs": [
        {
          "output_type": "execute_result",
          "data": {
            "text/plain": [
              "106.22"
            ]
          },
          "metadata": {
            "tags": []
          },
          "execution_count": 15
        }
      ]
    }
  ]
}