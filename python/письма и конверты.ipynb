{
  "nbformat": 4,
  "nbformat_minor": 0,
  "metadata": {
    "colab": {
      "name": "lab6.ipynb",
      "provenance": [],
      "collapsed_sections": []
    },
    "kernelspec": {
      "name": "python3",
      "display_name": "Python 3"
    }
  },
  "cells": [
    {
      "cell_type": "code",
      "metadata": {
        "id": "CciZG1-gw12G"
      },
      "source": [
        "from numpy import random\n",
        "import numpy as np\n",
        "def check_letters(number_ex,number_letters):\n",
        "    count=0\n",
        "    for i in range(number_ex): #проводим  эксперименты\n",
        "        x = random.randint(number_letters)#выбираем случайное  число\n",
        "        \n",
        "        \n",
        "        while(x==0):#выбираем значения больше 0\n",
        "          x = random.randint(number_letters)\n",
        "\n",
        "        #print(x)\n",
        "        labels=np.array(list(range(1,x+1)))#составляем список случайных писем\n",
        "        values=labels.copy()# копируем чтобы потом перемешать\n",
        "        np.random.shuffle(values)\n",
        "        j=1\n",
        "        for j in range(x):\n",
        "          if values[j]==labels[j]:\n",
        "            count+=1\n",
        "            break\n",
        "    return 'the accuracy is for iterations {0} and letters {1}  iterations : {2}'.format(number_ex,number_letters,count/number_ex)"
      ],
      "execution_count": null,
      "outputs": []
    },
    {
      "cell_type": "code",
      "metadata": {
        "colab": {
          "base_uri": "https://localhost:8080/"
        },
        "id": "5VpY1ED2Qt6z",
        "outputId": "af1f992b-b34d-4dc4-bd96-cad6a66b2c82"
      },
      "source": [
        "print(check_letters(80000,50)) #т.е. для n=50, проведем 80000 экспериментов\n",
        "print(check_letters(160000,50)) #увеличим количество экспериментов вдовое\n",
        "print(check_letters(100000,100)) #т.е. для n=100, проведем 100000 экспериментов\n",
        "print(check_letters(200000,100)) #увеличим количество экспериментов вдовое\n"
      ],
      "execution_count": null,
      "outputs": [
        {
          "output_type": "stream",
          "text": [
            "the accuracy is for iterations 80000 and letters 50  iterations : 0.6367\n",
            "the accuracy is for iterations 160000 and letters 50  iterations : 0.63871875\n",
            "the accuracy is for iterations 100000 and letters 100  iterations : 0.63474\n",
            "the accuracy is for iterations 200000 and letters 100  iterations : 0.63423\n"
          ],
          "name": "stdout"
        }
      ]
    },
    {
      "cell_type": "code",
      "metadata": {
        "colab": {
          "base_uri": "https://localhost:8080/"
        },
        "id": "SlYwIDinIgl5",
        "outputId": "b88da0ca-b3a4-43ee-d840-343a9f4877e3"
      },
      "source": [
        "#проверка\n",
        "n=100 #возьмем 100 писем и адресов\n",
        "#элементарные исходы, это всевозможные перестановки(рахмещения) n писем по n конвертам. т.е. если одно письмо точно попало в нужный конверт\n",
        "#общее число таких перестановок это n!, а благоприятных событию \"попало в свой конверт одно письмо\" (n-1)!\n",
        "#поэтому вероятность, что ровно одно письмо лежит в своем конверте: p=(n-1)!/n!=1/n  для любого из n писем.\n",
        "#но у нас по условию задачи: хотя бы одно письмо, т.е. варианты 2,3,...k...n писем попавших в свой конверт нас тоже устроят. Для 3х писем попавших в нужные конверты p=(n-3)!/n!=1/n(n-1)(n-2)\n",
        "#для n писем по своим конвертам вероятность равна p=1/n!, учтем еще сколькими способами можно выбрать k из n, т.е. положить ровно 3 письма в свои конверты\n",
        "#подставляем в формулу это все т.е. P(хотя бы одно письмо)=n*1/n-C(2,n)*1/n(n-1)+C(3,n)*1/n(n-1)(n-2)-....+(-1)^(n-1)*1/n!=1-1/2!+1/3!-...+(-1)^(n-1)*1/n!\n",
        "P=1\n",
        "i=2\n",
        "import math\n",
        "for i in range(n):\n",
        "  P=P+pow((-1),(i-1))/math.factorial(i)\n",
        "print(P)\n",
        "\n",
        "n=50\n",
        "P=1\n",
        "i=2\n",
        "import math\n",
        "for i in range(n):\n",
        "  P=P+pow((-1),(i-1))/math.factorial(i)\n",
        "print(P)\n"
      ],
      "execution_count": null,
      "outputs": [
        {
          "output_type": "stream",
          "text": [
            "0.6321205588285578\n",
            "0.6321205588285578\n"
          ],
          "name": "stdout"
        }
      ]
    },
    {
      "cell_type": "markdown",
      "metadata": {
        "id": "M9WYhxR6dzak"
      },
      "source": [
        "Получилось, что для n=100 вероятность равна 0.63, а для n=50 вероятность равна 0.63 с точностью в 2 знака после запятой. \n",
        "\n",
        "\n",
        "Вывод: \n",
        "Можно заметить, что с увеличением числа итераций в два раза, вероятность с точностью в 2 знака после запятой осталась такой же. Также с помощью формулы для классической вероятности была проведена проверка корректности вычислений и ответ совпал."
      ]
    }
  ]
}