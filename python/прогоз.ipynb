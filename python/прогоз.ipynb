{
  "nbformat": 4,
  "nbformat_minor": 0,
  "metadata": {
    "colab": {
      "name": "lab5.ipynb",
      "provenance": []
    },
    "kernelspec": {
      "name": "python3",
      "display_name": "Python 3"
    }
  },
  "cells": [
    {
      "cell_type": "code",
      "metadata": {
        "colab": {
          "base_uri": "https://localhost:8080/"
        },
        "id": "dJAgeN_cLg_T",
        "outputId": "46166bd7-c6c2-479c-b64d-08f4b69263ae"
      },
      "source": [
        "%%bash\n",
        "unzip лаб5.zip"
      ],
      "execution_count": null,
      "outputs": [
        {
          "output_type": "stream",
          "text": [
            "Archive:  лаб5.zip\n",
            "   creating: Прогноз_лабораторная/\n",
            "  inflating: Прогноз_лабораторная/Chicago_hotels.csv  \n",
            "  inflating: Прогноз_лабораторная/Лабораторная работа_прогнозирование.txt  \n"
          ],
          "name": "stdout"
        },
        {
          "output_type": "stream",
          "text": [
            "\n",
            "warning:  Unicode Path version > 1\n",
            "\n",
            "warning:  Unicode Path version > 1\n",
            "\n",
            "warning:  Unicode Path version > 1\n"
          ],
          "name": "stderr"
        }
      ]
    },
    {
      "cell_type": "code",
      "metadata": {
        "colab": {
          "base_uri": "https://localhost:8080/"
        },
        "id": "YXCzh-bIMQaP",
        "outputId": "189c976f-a72c-4f9d-cf7d-6a249b8d5142"
      },
      "source": [
        "%%bash\n",
        "cat /content/Прогноз_лабораторная/Лабораторная работа_прогнозирование.txt"
      ],
      "execution_count": null,
      "outputs": [
        {
          "output_type": "stream",
          "text": [
            "cat: /content/Прогноз_лабораторная/Лабораторная: No such file or directory\n",
            "cat: работа_прогнозирование.txt: No such file or directory\n"
          ],
          "name": "stderr"
        }
      ]
    },
    {
      "cell_type": "code",
      "metadata": {
        "id": "PhEfs92-MX4W"
      },
      "source": [
        "import pandas as pd\n",
        "data=pd.read_csv('/content/Прогноз_лабораторная/Chicago_hotels.csv',sep=\";\")"
      ],
      "execution_count": null,
      "outputs": []
    },
    {
      "cell_type": "code",
      "metadata": {
        "id": "IPtrZRKTNCzt"
      },
      "source": [
        "data=data.loc[:108]"
      ],
      "execution_count": null,
      "outputs": []
    },
    {
      "cell_type": "code",
      "metadata": {
        "colab": {
          "base_uri": "https://localhost:8080/"
        },
        "id": "YzcJysVzNDoo",
        "outputId": "579ff751-5fe9-4196-d5b6-89a62fc6af1e"
      },
      "source": [
        "data['date1'].value_counts()"
      ],
      "execution_count": null,
      "outputs": [
        {
          "output_type": "execute_result",
          "data": {
            "text/plain": [
              "January      10\n",
              "November      9\n",
              "June          9\n",
              "December      9\n",
              "March         9\n",
              "May           9\n",
              "October       9\n",
              "August        9\n",
              "February      9\n",
              "July          9\n",
              "September     9\n",
              "April         9\n",
              "Name: date1, dtype: int64"
            ]
          },
          "metadata": {
            "tags": []
          },
          "execution_count": 3
        }
      ]
    },
    {
      "cell_type": "code",
      "metadata": {
        "id": "4jZxIRA4NhXA"
      },
      "source": [
        "d = {'January':'01', 'February':'02', 'March':'03', 'April':'04','May':'05','June':'06','July':'07','August':'08','September':'09','October':'10','November':'11','December':'12'}"
      ],
      "execution_count": null,
      "outputs": []
    },
    {
      "cell_type": "code",
      "metadata": {
        "id": "8_oMXQS2Nw0S"
      },
      "source": [
        "data['date1']=data['date1'].map(d)"
      ],
      "execution_count": null,
      "outputs": []
    },
    {
      "cell_type": "code",
      "metadata": {
        "id": "gG-Zcw6nPluN"
      },
      "source": [
        "data['date2']=data['date2'].astype(str)"
      ],
      "execution_count": null,
      "outputs": []
    },
    {
      "cell_type": "code",
      "metadata": {
        "id": "CGBiBEDFPQ8E"
      },
      "source": [
        "data['date']='01'+'/'+data['date1']+'/'+data['date2']"
      ],
      "execution_count": null,
      "outputs": []
    },
    {
      "cell_type": "code",
      "metadata": {
        "id": "Fe2FamqlPg4l"
      },
      "source": [
        "data['date']=pd.to_datetime(data['date'])"
      ],
      "execution_count": null,
      "outputs": []
    },
    {
      "cell_type": "code",
      "metadata": {
        "colab": {
          "base_uri": "https://localhost:8080/",
          "height": 424
        },
        "id": "wzKnuML9U0XQ",
        "outputId": "a15e70e1-a2f7-41b4-f760-0afab8117ad8"
      },
      "source": [
        "data"
      ],
      "execution_count": null,
      "outputs": [
        {
          "output_type": "execute_result",
          "data": {
            "text/html": [
              "<div>\n",
              "<style scoped>\n",
              "    .dataframe tbody tr th:only-of-type {\n",
              "        vertical-align: middle;\n",
              "    }\n",
              "\n",
              "    .dataframe tbody tr th {\n",
              "        vertical-align: top;\n",
              "    }\n",
              "\n",
              "    .dataframe thead th {\n",
              "        text-align: right;\n",
              "    }\n",
              "</style>\n",
              "<table border=\"1\" class=\"dataframe\">\n",
              "  <thead>\n",
              "    <tr style=\"text-align: right;\">\n",
              "      <th></th>\n",
              "      <th>date1</th>\n",
              "      <th>date2</th>\n",
              "      <th>x1</th>\n",
              "      <th>x2</th>\n",
              "      <th>x3</th>\n",
              "      <th>x4</th>\n",
              "      <th>date</th>\n",
              "    </tr>\n",
              "  </thead>\n",
              "  <tbody>\n",
              "    <tr>\n",
              "      <th>0</th>\n",
              "      <td>01</td>\n",
              "      <td>1994</td>\n",
              "      <td>44,3</td>\n",
              "      <td>104,04</td>\n",
              "      <td>51,9</td>\n",
              "      <td>72,15</td>\n",
              "      <td>1994-01-01</td>\n",
              "    </tr>\n",
              "    <tr>\n",
              "      <th>1</th>\n",
              "      <td>02</td>\n",
              "      <td>1994</td>\n",
              "      <td>54,7</td>\n",
              "      <td>102,74</td>\n",
              "      <td>60,1</td>\n",
              "      <td>73,47</td>\n",
              "      <td>1994-01-02</td>\n",
              "    </tr>\n",
              "    <tr>\n",
              "      <th>2</th>\n",
              "      <td>03</td>\n",
              "      <td>1994</td>\n",
              "      <td>61,9</td>\n",
              "      <td>105,23</td>\n",
              "      <td>65</td>\n",
              "      <td>74,91</td>\n",
              "      <td>1994-01-03</td>\n",
              "    </tr>\n",
              "    <tr>\n",
              "      <th>3</th>\n",
              "      <td>04</td>\n",
              "      <td>1994</td>\n",
              "      <td>69,1</td>\n",
              "      <td>113,63</td>\n",
              "      <td>69,8</td>\n",
              "      <td>79,06</td>\n",
              "      <td>1994-01-04</td>\n",
              "    </tr>\n",
              "    <tr>\n",
              "      <th>4</th>\n",
              "      <td>05</td>\n",
              "      <td>1994</td>\n",
              "      <td>70,8</td>\n",
              "      <td>120,77</td>\n",
              "      <td>72,4</td>\n",
              "      <td>82,07</td>\n",
              "      <td>1994-01-05</td>\n",
              "    </tr>\n",
              "    <tr>\n",
              "      <th>...</th>\n",
              "      <td>...</td>\n",
              "      <td>...</td>\n",
              "      <td>...</td>\n",
              "      <td>...</td>\n",
              "      <td>...</td>\n",
              "      <td>...</td>\n",
              "      <td>...</td>\n",
              "    </tr>\n",
              "    <tr>\n",
              "      <th>104</th>\n",
              "      <td>09</td>\n",
              "      <td>2002</td>\n",
              "      <td>74,3</td>\n",
              "      <td>166,59</td>\n",
              "      <td>66,6</td>\n",
              "      <td>117,2</td>\n",
              "      <td>2002-01-09</td>\n",
              "    </tr>\n",
              "    <tr>\n",
              "      <th>105</th>\n",
              "      <td>10</td>\n",
              "      <td>2002</td>\n",
              "      <td>77,1</td>\n",
              "      <td>173,08</td>\n",
              "      <td>67,7</td>\n",
              "      <td>120,35</td>\n",
              "      <td>2002-01-10</td>\n",
              "    </tr>\n",
              "    <tr>\n",
              "      <th>106</th>\n",
              "      <td>11</td>\n",
              "      <td>2002</td>\n",
              "      <td>69,8</td>\n",
              "      <td>175,82</td>\n",
              "      <td>59,4</td>\n",
              "      <td>113,14</td>\n",
              "      <td>2002-01-11</td>\n",
              "    </tr>\n",
              "    <tr>\n",
              "      <th>107</th>\n",
              "      <td>12</td>\n",
              "      <td>2002</td>\n",
              "      <td>54,8</td>\n",
              "      <td>148,95</td>\n",
              "      <td>46,6</td>\n",
              "      <td>99,1</td>\n",
              "      <td>2002-01-12</td>\n",
              "    </tr>\n",
              "    <tr>\n",
              "      <th>108</th>\n",
              "      <td>01</td>\n",
              "      <td>2003</td>\n",
              "      <td>51,6</td>\n",
              "      <td>132,89</td>\n",
              "      <td>45,3</td>\n",
              "      <td>92,88</td>\n",
              "      <td>2003-01-01</td>\n",
              "    </tr>\n",
              "  </tbody>\n",
              "</table>\n",
              "<p>109 rows × 7 columns</p>\n",
              "</div>"
            ],
            "text/plain": [
              "    date1 date2    x1      x2    x3      x4       date\n",
              "0      01  1994  44,3  104,04  51,9   72,15 1994-01-01\n",
              "1      02  1994  54,7  102,74  60,1   73,47 1994-01-02\n",
              "2      03  1994  61,9  105,23    65   74,91 1994-01-03\n",
              "3      04  1994  69,1  113,63  69,8   79,06 1994-01-04\n",
              "4      05  1994  70,8  120,77  72,4   82,07 1994-01-05\n",
              "..    ...   ...   ...     ...   ...     ...        ...\n",
              "104    09  2002  74,3  166,59  66,6   117,2 2002-01-09\n",
              "105    10  2002  77,1  173,08  67,7  120,35 2002-01-10\n",
              "106    11  2002  69,8  175,82  59,4  113,14 2002-01-11\n",
              "107    12  2002  54,8  148,95  46,6    99,1 2002-01-12\n",
              "108    01  2003  51,6  132,89  45,3   92,88 2003-01-01\n",
              "\n",
              "[109 rows x 7 columns]"
            ]
          },
          "metadata": {
            "tags": []
          },
          "execution_count": 9
        }
      ]
    },
    {
      "cell_type": "code",
      "metadata": {
        "id": "CikcxPq0UzgP"
      },
      "source": [
        "# data['x1']=data['x1'].str.replace(',','.').astype(float)\n",
        "# data['x3']=data['x3'].str.replace(',','.').astype(float)\n",
        "# data['x4']=data['x4'].str.replace(',','.').astype(float)\n",
        "data['x2']=data['x2'].str.replace(',','.').astype(float)"
      ],
      "execution_count": null,
      "outputs": []
    },
    {
      "cell_type": "code",
      "metadata": {
        "id": "cvttOCnuQDpA"
      },
      "source": [
        "data_ts=data.set_index('date')"
      ],
      "execution_count": null,
      "outputs": []
    },
    {
      "cell_type": "code",
      "metadata": {
        "id": "Z5mzJ7nNRUy9"
      },
      "source": [
        ""
      ],
      "execution_count": null,
      "outputs": []
    },
    {
      "cell_type": "code",
      "metadata": {
        "id": "ssGj_QNZQL7-"
      },
      "source": [
        "data_ts_forecast=data['x2'].astype(float)"
      ],
      "execution_count": null,
      "outputs": []
    },
    {
      "cell_type": "code",
      "metadata": {
        "colab": {
          "base_uri": "https://localhost:8080/",
          "height": 175
        },
        "id": "vp3aO4N0VFdR",
        "outputId": "cd53d6f1-ae86-4ea5-c010-6d031ffb531b"
      },
      "source": [
        "data.corr()"
      ],
      "execution_count": null,
      "outputs": [
        {
          "output_type": "execute_result",
          "data": {
            "text/html": [
              "<div>\n",
              "<style scoped>\n",
              "    .dataframe tbody tr th:only-of-type {\n",
              "        vertical-align: middle;\n",
              "    }\n",
              "\n",
              "    .dataframe tbody tr th {\n",
              "        vertical-align: top;\n",
              "    }\n",
              "\n",
              "    .dataframe thead th {\n",
              "        text-align: right;\n",
              "    }\n",
              "</style>\n",
              "<table border=\"1\" class=\"dataframe\">\n",
              "  <thead>\n",
              "    <tr style=\"text-align: right;\">\n",
              "      <th></th>\n",
              "      <th>x1</th>\n",
              "      <th>x2</th>\n",
              "      <th>x3</th>\n",
              "      <th>x4</th>\n",
              "    </tr>\n",
              "  </thead>\n",
              "  <tbody>\n",
              "    <tr>\n",
              "      <th>x1</th>\n",
              "      <td>1.000000</td>\n",
              "      <td>0.446554</td>\n",
              "      <td>0.948679</td>\n",
              "      <td>0.447351</td>\n",
              "    </tr>\n",
              "    <tr>\n",
              "      <th>x2</th>\n",
              "      <td>0.446554</td>\n",
              "      <td>1.000000</td>\n",
              "      <td>0.251881</td>\n",
              "      <td>0.985266</td>\n",
              "    </tr>\n",
              "    <tr>\n",
              "      <th>x3</th>\n",
              "      <td>0.948679</td>\n",
              "      <td>0.251881</td>\n",
              "      <td>1.000000</td>\n",
              "      <td>0.253816</td>\n",
              "    </tr>\n",
              "    <tr>\n",
              "      <th>x4</th>\n",
              "      <td>0.447351</td>\n",
              "      <td>0.985266</td>\n",
              "      <td>0.253816</td>\n",
              "      <td>1.000000</td>\n",
              "    </tr>\n",
              "  </tbody>\n",
              "</table>\n",
              "</div>"
            ],
            "text/plain": [
              "          x1        x2        x3        x4\n",
              "x1  1.000000  0.446554  0.948679  0.447351\n",
              "x2  0.446554  1.000000  0.251881  0.985266\n",
              "x3  0.948679  0.251881  1.000000  0.253816\n",
              "x4  0.447351  0.985266  0.253816  1.000000"
            ]
          },
          "metadata": {
            "tags": []
          },
          "execution_count": 15
        }
      ]
    },
    {
      "cell_type": "code",
      "metadata": {
        "colab": {
          "base_uri": "https://localhost:8080/",
          "height": 269
        },
        "id": "xHe6loKeRGTT",
        "outputId": "4bf5c855-0d59-4275-fbae-92bf8efbab7a"
      },
      "source": [
        "import seaborn as sns\n",
        "import matplotlib.pyplot as plt\n",
        "\n",
        "sns.heatmap(data.corr())\n",
        "plt.show()"
      ],
      "execution_count": null,
      "outputs": [
        {
          "output_type": "display_data",
          "data": {
            "image/png": "[encoded data removed]",
            "text/plain": [
              "<Figure size 432x288 with 2 Axes>"
            ]
          },
          "metadata": {
            "tags": [],
            "needs_background": "light"
          }
        }
      ]
    },
    {
      "cell_type": "code",
      "metadata": {
        "colab": {
          "base_uri": "https://localhost:8080/",
          "height": 332
        },
        "id": "GAcOj8tmQNJY",
        "outputId": "c73f4e2b-dfdf-4903-f2b0-9e78bd758061"
      },
      "source": [
        "from statsmodels.tsa.seasonal import seasonal_decompose\n",
        "decomp = seasonal_decompose(data_ts_forecast, freq = 12)\n",
        "decomp.plot();"
      ],
      "execution_count": null,
      "outputs": [
        {
          "output_type": "stream",
          "text": [
            "/usr/local/lib/python3.6/dist-packages/ipykernel_launcher.py:2: FutureWarning: the 'freq'' keyword is deprecated, use 'period' instead\n",
            "  \n"
          ],
          "name": "stderr"
        },
        {
          "output_type": "display_data",
          "data": {
            "image/png": "[encoded data removed]",
            "text/plain": [
              "<Figure size 432x288 with 4 Axes>"
            ]
          },
          "metadata": {
            "tags": [],
            "needs_background": "light"
          }
        }
      ]
    },
    {
      "cell_type": "markdown",
      "metadata": {
        "id": "6hOnVG72t_td"
      },
      "source": [
        "данные не стационары однако можно увидеть тренд на возрастание и сезонность на начало и конец года\n",
        "и высокую зависимость от x4"
      ]
    },
    {
      "cell_type": "code",
      "metadata": {
        "colab": {
          "base_uri": "https://localhost:8080/"
        },
        "id": "nrlMy_bHQ4BQ",
        "outputId": "f7d0463d-fff4-49cd-a28e-c994ecdea728"
      },
      "source": [
        "from statsmodels.tsa.stattools import adfuller\n",
        "s_test = adfuller(data_ts_forecast,regression=\"ct\")\n",
        "print(\"p value > 0.05 means data is non-stationary: \", s_test[1])"
      ],
      "execution_count": null,
      "outputs": [
        {
          "output_type": "stream",
          "text": [
            "p value > 0.05 means data is non-stationary:  0.828529824578814\n"
          ],
          "name": "stdout"
        }
      ]
    },
    {
      "cell_type": "code",
      "metadata": {
        "id": "7U1bNEsfSmBG"
      },
      "source": [
        "from statsmodels.regression.linear_model import OLS\n",
        "model_ols = OLS(data['x1'],data_ts_forecast)"
      ],
      "execution_count": null,
      "outputs": []
    },
    {
      "cell_type": "code",
      "metadata": {
        "colab": {
          "base_uri": "https://localhost:8080/"
        },
        "id": "Ccqiv68DVS4y",
        "outputId": "ea87557a-6824-41e9-d7e0-e2001e58fd0d"
      },
      "source": [
        "result = model_ols.fit(cov_type='HC1')\n",
        "result "
      ],
      "execution_count": null,
      "outputs": [
        {
          "output_type": "execute_result",
          "data": {
            "text/plain": [
              "<statsmodels.regression.linear_model.RegressionResultsWrapper at 0x7fd6f0aef5c0>"
            ]
          },
          "metadata": {
            "tags": []
          },
          "execution_count": 67
        }
      ]
    },
    {
      "cell_type": "code",
      "metadata": {
        "colab": {
          "base_uri": "https://localhost:8080/"
        },
        "id": "qmd3is6ETbJd",
        "outputId": "df66c764-3fe0-4bc2-d51c-f94b1a9028ee"
      },
      "source": [
        "data_ts_forecast.shape"
      ],
      "execution_count": null,
      "outputs": [
        {
          "output_type": "execute_result",
          "data": {
            "text/plain": [
              "(109,)"
            ]
          },
          "metadata": {
            "tags": []
          },
          "execution_count": 59
        }
      ]
    },
    {
      "cell_type": "code",
      "metadata": {
        "id": "y10QaR7MTlFQ"
      },
      "source": [
        "from sklearn.model_selection import train_test_split\n",
        "X_train,X_test,y_train,y_test=train_test_split(data['x1'],data_ts_forecast,test_size=0.2)"
      ],
      "execution_count": null,
      "outputs": []
    },
    {
      "cell_type": "code",
      "metadata": {
        "id": "1bXaBt5ScniO"
      },
      "source": [
        "from statsmodels.regression.linear_model import OLS\n",
        "model_ols = OLS(y_train,X_train)"
      ],
      "execution_count": null,
      "outputs": []
    },
    {
      "cell_type": "code",
      "metadata": {
        "id": "UpgkqQECc5Bj"
      },
      "source": [
        "results=model_ols.fit()"
      ],
      "execution_count": null,
      "outputs": []
    },
    {
      "cell_type": "code",
      "metadata": {
        "colab": {
          "base_uri": "https://localhost:8080/"
        },
        "id": "ea0LIPSuf_0v",
        "outputId": "e22f92d7-ccab-4f4b-92dd-125462047950"
      },
      "source": [
        "print(results.summary())"
      ],
      "execution_count": null,
      "outputs": [
        {
          "output_type": "stream",
          "text": [
            "                                 OLS Regression Results                                \n",
            "=======================================================================================\n",
            "Dep. Variable:                     x2   R-squared (uncentered):                   0.974\n",
            "Model:                            OLS   Adj. R-squared (uncentered):              0.974\n",
            "Method:                 Least Squares   F-statistic:                              3219.\n",
            "Date:                Tue, 12 Jan 2021   Prob (F-statistic):                    6.30e-70\n",
            "Time:                        12:09:13   Log-Likelihood:                         -398.28\n",
            "No. Observations:                  87   AIC:                                      798.6\n",
            "Df Residuals:                      86   BIC:                                      801.0\n",
            "Df Model:                           1                                                  \n",
            "Covariance Type:            nonrobust                                                  \n",
            "==============================================================================\n",
            "                 coef    std err          t      P>|t|      [0.025      0.975]\n",
            "------------------------------------------------------------------------------\n",
            "x1             2.0005      0.035     56.734      0.000       1.930       2.071\n",
            "==============================================================================\n",
            "Omnibus:                        2.520   Durbin-Watson:                   1.764\n",
            "Prob(Omnibus):                  0.284   Jarque-Bera (JB):                2.453\n",
            "Skew:                          -0.350   Prob(JB):                        0.293\n",
            "Kurtosis:                       2.569   Cond. No.                         1.00\n",
            "==============================================================================\n",
            "\n",
            "Warnings:\n",
            "[1] Standard Errors assume that the covariance matrix of the errors is correctly specified.\n"
          ],
          "name": "stdout"
        }
      ]
    },
    {
      "cell_type": "code",
      "metadata": {
        "id": "MfOnmI8mc89l"
      },
      "source": [
        "predictions = results.predict(X_test)"
      ],
      "execution_count": null,
      "outputs": []
    },
    {
      "cell_type": "code",
      "metadata": {
        "colab": {
          "base_uri": "https://localhost:8080/"
        },
        "id": "RL2qPnNZgm-b",
        "outputId": "b9cd0aa7-4e3c-407d-96af-d175047ab666"
      },
      "source": [
        "%pip install fbprophet"
      ],
      "execution_count": null,
      "outputs": [
        {
          "output_type": "stream",
          "text": [
            "Requirement already satisfied: fbprophet in /usr/local/lib/python3.6/dist-packages (0.7.1)\n",
            "Requirement already satisfied: Cython>=0.22 in /usr/local/lib/python3.6/dist-packages (from fbprophet) (0.29.21)\n",
            "Requirement already satisfied: cmdstanpy==0.9.5 in /usr/local/lib/python3.6/dist-packages (from fbprophet) (0.9.5)\n",
            "Requirement already satisfied: pystan>=2.14 in /usr/local/lib/python3.6/dist-packages (from fbprophet) (2.19.1.1)\n",
            "Requirement already satisfied: numpy>=1.15.4 in /usr/local/lib/python3.6/dist-packages (from fbprophet) (1.19.5)\n",
            "Requirement already satisfied: pandas>=1.0.4 in /usr/local/lib/python3.6/dist-packages (from fbprophet) (1.1.5)\n",
            "Requirement already satisfied: matplotlib>=2.0.0 in /usr/local/lib/python3.6/dist-packages (from fbprophet) (3.2.2)\n",
            "Requirement already satisfied: LunarCalendar>=0.0.9 in /usr/local/lib/python3.6/dist-packages (from fbprophet) (0.0.9)\n",
            "Requirement already satisfied: convertdate>=2.1.2 in /usr/local/lib/python3.6/dist-packages (from fbprophet) (2.2.0)\n",
            "Requirement already satisfied: holidays>=0.10.2 in /usr/local/lib/python3.6/dist-packages (from fbprophet) (0.10.4)\n",
            "Requirement already satisfied: setuptools-git>=1.2 in /usr/local/lib/python3.6/dist-packages (from fbprophet) (1.2)\n",
            "Requirement already satisfied: python-dateutil>=2.8.0 in /usr/local/lib/python3.6/dist-packages (from fbprophet) (2.8.1)\n",
            "Requirement already satisfied: tqdm>=4.36.1 in /usr/local/lib/python3.6/dist-packages (from fbprophet) (4.41.1)\n",
            "Requirement already satisfied: pytz>=2017.2 in /usr/local/lib/python3.6/dist-packages (from pandas>=1.0.4->fbprophet) (2018.9)\n",
            "Requirement already satisfied: pyparsing!=2.0.4,!=2.1.2,!=2.1.6,>=2.0.1 in /usr/local/lib/python3.6/dist-packages (from matplotlib>=2.0.0->fbprophet) (2.4.7)\n",
            "Requirement already satisfied: kiwisolver>=1.0.1 in /usr/local/lib/python3.6/dist-packages (from matplotlib>=2.0.0->fbprophet) (1.3.1)\n",
            "Requirement already satisfied: cycler>=0.10 in /usr/local/lib/python3.6/dist-packages (from matplotlib>=2.0.0->fbprophet) (0.10.0)\n",
            "Requirement already satisfied: ephem>=3.7.5.3 in /usr/local/lib/python3.6/dist-packages (from LunarCalendar>=0.0.9->fbprophet) (3.7.7.1)\n",
            "Requirement already satisfied: pymeeus<=1,>=0.3.6 in /usr/local/lib/python3.6/dist-packages (from convertdate>=2.1.2->fbprophet) (0.3.7)\n",
            "Requirement already satisfied: six in /usr/local/lib/python3.6/dist-packages (from holidays>=0.10.2->fbprophet) (1.15.0)\n",
            "Requirement already satisfied: korean-lunar-calendar in /usr/local/lib/python3.6/dist-packages (from holidays>=0.10.2->fbprophet) (0.2.1)\n"
          ],
          "name": "stdout"
        }
      ]
    },
    {
      "cell_type": "code",
      "metadata": {
        "colab": {
          "base_uri": "https://localhost:8080/"
        },
        "id": "q7vduXOKc9-E",
        "outputId": "5bacec4b-ea24-4e4d-c737-c419bed4dce9"
      },
      "source": [
        "from sklearn.metrics import mean_absolute_error\n",
        "print(mean_absolute_error(y_test,predictions))"
      ],
      "execution_count": null,
      "outputs": [
        {
          "output_type": "stream",
          "text": [
            "25.091612295941253\n"
          ],
          "name": "stdout"
        }
      ]
    },
    {
      "cell_type": "code",
      "metadata": {
        "id": "SPkLmEacdi-b"
      },
      "source": [
        "prophet=data[['date','x2']]\n",
        "prophet.columns = ['ds', 'y']"
      ],
      "execution_count": null,
      "outputs": []
    },
    {
      "cell_type": "code",
      "metadata": {
        "id": "eizqVf2zdmJ2"
      },
      "source": [
        "from fbprophet import Prophet\n",
        "train_df = prophet[:-27] "
      ],
      "execution_count": null,
      "outputs": []
    },
    {
      "cell_type": "code",
      "metadata": {
        "colab": {
          "base_uri": "https://localhost:8080/"
        },
        "id": "e6v_Ijywhp-m",
        "outputId": "89d3cdd5-3a3f-4d58-9b4d-60d955cb067c"
      },
      "source": [
        "m = Prophet()\n",
        "m.fit(train_df)"
      ],
      "execution_count": null,
      "outputs": [
        {
          "output_type": "stream",
          "text": [
            "INFO:fbprophet:Disabling daily seasonality. Run prophet with daily_seasonality=True to override this.\n"
          ],
          "name": "stderr"
        },
        {
          "output_type": "execute_result",
          "data": {
            "text/plain": [
              "<fbprophet.forecaster.Prophet at 0x7fd6eb126a20>"
            ]
          },
          "metadata": {
            "tags": []
          },
          "execution_count": 129
        }
      ]
    },
    {
      "cell_type": "code",
      "metadata": {
        "colab": {
          "base_uri": "https://localhost:8080/",
          "height": 424
        },
        "id": "_HpJQleGiBce",
        "outputId": "225bda64-d43d-4370-c58e-4ed07974ec72"
      },
      "source": [
        "train_df"
      ],
      "execution_count": null,
      "outputs": [
        {
          "output_type": "execute_result",
          "data": {
            "text/html": [
              "<div>\n",
              "<style scoped>\n",
              "    .dataframe tbody tr th:only-of-type {\n",
              "        vertical-align: middle;\n",
              "    }\n",
              "\n",
              "    .dataframe tbody tr th {\n",
              "        vertical-align: top;\n",
              "    }\n",
              "\n",
              "    .dataframe thead th {\n",
              "        text-align: right;\n",
              "    }\n",
              "</style>\n",
              "<table border=\"1\" class=\"dataframe\">\n",
              "  <thead>\n",
              "    <tr style=\"text-align: right;\">\n",
              "      <th></th>\n",
              "      <th>ds</th>\n",
              "      <th>y</th>\n",
              "    </tr>\n",
              "  </thead>\n",
              "  <tbody>\n",
              "    <tr>\n",
              "      <th>0</th>\n",
              "      <td>1994-01-01</td>\n",
              "      <td>104.04</td>\n",
              "    </tr>\n",
              "    <tr>\n",
              "      <th>1</th>\n",
              "      <td>1994-01-02</td>\n",
              "      <td>102.74</td>\n",
              "    </tr>\n",
              "    <tr>\n",
              "      <th>2</th>\n",
              "      <td>1994-01-03</td>\n",
              "      <td>105.23</td>\n",
              "    </tr>\n",
              "    <tr>\n",
              "      <th>3</th>\n",
              "      <td>1994-01-04</td>\n",
              "      <td>113.63</td>\n",
              "    </tr>\n",
              "    <tr>\n",
              "      <th>4</th>\n",
              "      <td>1994-01-05</td>\n",
              "      <td>120.77</td>\n",
              "    </tr>\n",
              "    <tr>\n",
              "      <th>...</th>\n",
              "      <td>...</td>\n",
              "      <td>...</td>\n",
              "    </tr>\n",
              "    <tr>\n",
              "      <th>77</th>\n",
              "      <td>2000-01-06</td>\n",
              "      <td>184.26</td>\n",
              "    </tr>\n",
              "    <tr>\n",
              "      <th>78</th>\n",
              "      <td>2000-01-07</td>\n",
              "      <td>161.13</td>\n",
              "    </tr>\n",
              "    <tr>\n",
              "      <th>79</th>\n",
              "      <td>2000-01-08</td>\n",
              "      <td>171.94</td>\n",
              "    </tr>\n",
              "    <tr>\n",
              "      <th>80</th>\n",
              "      <td>2000-01-09</td>\n",
              "      <td>188.10</td>\n",
              "    </tr>\n",
              "    <tr>\n",
              "      <th>81</th>\n",
              "      <td>2000-01-10</td>\n",
              "      <td>190.71</td>\n",
              "    </tr>\n",
              "  </tbody>\n",
              "</table>\n",
              "<p>82 rows × 2 columns</p>\n",
              "</div>"
            ],
            "text/plain": [
              "           ds       y\n",
              "0  1994-01-01  104.04\n",
              "1  1994-01-02  102.74\n",
              "2  1994-01-03  105.23\n",
              "3  1994-01-04  113.63\n",
              "4  1994-01-05  120.77\n",
              "..        ...     ...\n",
              "77 2000-01-06  184.26\n",
              "78 2000-01-07  161.13\n",
              "79 2000-01-08  171.94\n",
              "80 2000-01-09  188.10\n",
              "81 2000-01-10  190.71\n",
              "\n",
              "[82 rows x 2 columns]"
            ]
          },
          "metadata": {
            "tags": []
          },
          "execution_count": 130
        }
      ]
    },
    {
      "cell_type": "code",
      "metadata": {
        "colab": {
          "base_uri": "https://localhost:8080/",
          "height": 609
        },
        "id": "1lP5nrJaixZu",
        "outputId": "63908ba2-1523-4c39-e1e2-e538a28e5482"
      },
      "source": [
        "%pip install pmdarima"
      ],
      "execution_count": null,
      "outputs": [
        {
          "output_type": "stream",
          "text": [
            "Collecting pmdarima\n",
            "\u001b[?25l  Downloading https://files.pythonhosted.org/packages/c9/d7/61af1897449638822f97c8b43ef0c2fce2ec68a6cda9a43ebbbdd12b967c/pmdarima-1.8.0-cp36-cp36m-manylinux1_x86_64.whl (1.5MB)\n",
            "\u001b[K     |████████████████████████████████| 1.5MB 8.9MB/s \n",
            "\u001b[?25hRequirement already satisfied: scikit-learn>=0.22 in /usr/local/lib/python3.6/dist-packages (from pmdarima) (0.22.2.post1)\n",
            "Collecting Cython<0.29.18,>=0.29\n",
            "\u001b[?25l  Downloading https://files.pythonhosted.org/packages/e7/d7/510ddef0248f3e1e91f9cc7e31c0f35f8954d0af92c5c3fd4c853e859ebe/Cython-0.29.17-cp36-cp36m-manylinux1_x86_64.whl (2.1MB)\n",
            "\u001b[K     |████████████████████████████████| 2.1MB 31.9MB/s \n",
            "\u001b[?25hRequirement already satisfied: scipy>=1.3.2 in /usr/local/lib/python3.6/dist-packages (from pmdarima) (1.4.1)\n",
            "Collecting statsmodels!=0.12.0,>=0.11\n",
            "\u001b[?25l  Downloading https://files.pythonhosted.org/packages/be/4c/9e2435ca6645d6bafa2b51bb11f0a365b28934a2ffe9d6e339d67130926d/statsmodels-0.12.1-cp36-cp36m-manylinux1_x86_64.whl (9.5MB)\n",
            "\u001b[K     |████████████████████████████████| 9.5MB 41.1MB/s \n",
            "\u001b[?25hRequirement already satisfied: pandas>=0.19 in /usr/local/lib/python3.6/dist-packages (from pmdarima) (1.1.5)\n",
            "Requirement already satisfied: urllib3 in /usr/local/lib/python3.6/dist-packages (from pmdarima) (1.24.3)\n",
            "Requirement already satisfied: joblib>=0.11 in /usr/local/lib/python3.6/dist-packages (from pmdarima) (1.0.0)\n",
            "Requirement already satisfied: numpy>=1.17.3 in /usr/local/lib/python3.6/dist-packages (from pmdarima) (1.19.5)\n",
            "Requirement already satisfied: setuptools!=50.0.0,>=38.6.0 in /usr/local/lib/python3.6/dist-packages (from pmdarima) (51.1.1)\n",
            "Requirement already satisfied: patsy>=0.5 in /usr/local/lib/python3.6/dist-packages (from statsmodels!=0.12.0,>=0.11->pmdarima) (0.5.1)\n",
            "Requirement already satisfied: pytz>=2017.2 in /usr/local/lib/python3.6/dist-packages (from pandas>=0.19->pmdarima) (2018.9)\n",
            "Requirement already satisfied: python-dateutil>=2.7.3 in /usr/local/lib/python3.6/dist-packages (from pandas>=0.19->pmdarima) (2.8.1)\n",
            "Requirement already satisfied: six in /usr/local/lib/python3.6/dist-packages (from patsy>=0.5->statsmodels!=0.12.0,>=0.11->pmdarima) (1.15.0)\n",
            "Installing collected packages: Cython, statsmodels, pmdarima\n",
            "  Found existing installation: Cython 0.29.21\n",
            "    Uninstalling Cython-0.29.21:\n",
            "      Successfully uninstalled Cython-0.29.21\n",
            "  Found existing installation: statsmodels 0.10.2\n",
            "    Uninstalling statsmodels-0.10.2:\n",
            "      Successfully uninstalled statsmodels-0.10.2\n",
            "Successfully installed Cython-0.29.17 pmdarima-1.8.0 statsmodels-0.12.1\n"
          ],
          "name": "stdout"
        },
        {
          "output_type": "display_data",
          "data": {
            "application/vnd.colab-display-data+json": {
              "pip_warning": {
                "packages": [
                  "Cython",
                  "cython",
                  "pyximport",
                  "statsmodels"
                ]
              }
            }
          },
          "metadata": {
            "tags": []
          }
        }
      ]
    },
    {
      "cell_type": "code",
      "metadata": {
        "colab": {
          "base_uri": "https://localhost:8080/",
          "height": 743
        },
        "id": "HC0CPBrNlk2_",
        "outputId": "9853d919-c4e1-4127-cfba-e034b06c3bf7"
      },
      "source": [
        "from pmdarima import auto_arima\n",
        "stepwise_fit = auto_arima(data_ts['x2'], start_p = 1, start_q = 1, \n",
        "                          max_p = 3, max_q = 3, m = 12, \n",
        "                          start_P = 0, seasonal = True, \n",
        "                          d = None, D = 1, trace = True, \n",
        "                          error_action ='ignore',   # we don't want to know if an order does not work \n",
        "                          suppress_warnings = True,  # we don't want convergence warnings \n",
        "                          stepwise = True)           # set to stepwise \n",
        "  \n",
        "# To print the summary \n",
        "stepwise_fit.summary() "
      ],
      "execution_count": null,
      "outputs": [
        {
          "output_type": "stream",
          "text": [
            "Performing stepwise search to minimize aic\n",
            " ARIMA(1,1,1)(0,1,1)[12]             : AIC=606.495, Time=0.31 sec\n",
            " ARIMA(0,1,0)(0,1,0)[12]             : AIC=642.225, Time=0.02 sec\n",
            " ARIMA(1,1,0)(1,1,0)[12]             : AIC=605.299, Time=0.10 sec\n",
            " ARIMA(0,1,1)(0,1,1)[12]             : AIC=606.312, Time=0.17 sec\n",
            " ARIMA(1,1,0)(0,1,0)[12]             : AIC=617.260, Time=0.04 sec\n",
            " ARIMA(1,1,0)(2,1,0)[12]             : AIC=605.527, Time=0.26 sec\n",
            " ARIMA(1,1,0)(1,1,1)[12]             : AIC=605.823, Time=0.24 sec\n",
            " ARIMA(1,1,0)(0,1,1)[12]             : AIC=604.561, Time=0.15 sec\n",
            " ARIMA(1,1,0)(0,1,2)[12]             : AIC=605.593, Time=0.44 sec\n",
            " ARIMA(1,1,0)(1,1,2)[12]             : AIC=606.985, Time=1.06 sec\n",
            " ARIMA(0,1,0)(0,1,1)[12]             : AIC=621.217, Time=0.11 sec\n",
            " ARIMA(2,1,0)(0,1,1)[12]             : AIC=606.515, Time=0.21 sec\n",
            " ARIMA(2,1,1)(0,1,1)[12]             : AIC=607.280, Time=0.65 sec\n",
            " ARIMA(1,1,0)(0,1,1)[12] intercept   : AIC=606.451, Time=0.23 sec\n",
            "\n",
            "Best model:  ARIMA(1,1,0)(0,1,1)[12]          \n",
            "Total fit time: 4.007 seconds\n"
          ],
          "name": "stdout"
        },
        {
          "output_type": "execute_result",
          "data": {
            "text/html": [
              "<table class=\"simpletable\">\n",
              "<caption>SARIMAX Results</caption>\n",
              "<tr>\n",
              "  <th>Dep. Variable:</th>                   <td>y</td>                <th>  No. Observations:  </th>    <td>109</td>  \n",
              "</tr>\n",
              "<tr>\n",
              "  <th>Model:</th>           <td>SARIMAX(1, 1, 0)x(0, 1, [1], 12)</td> <th>  Log Likelihood     </th> <td>-299.281</td>\n",
              "</tr>\n",
              "<tr>\n",
              "  <th>Date:</th>                    <td>Tue, 12 Jan 2021</td>         <th>  AIC                </th>  <td>604.561</td>\n",
              "</tr>\n",
              "<tr>\n",
              "  <th>Time:</th>                        <td>12:36:08</td>             <th>  BIC                </th>  <td>612.255</td>\n",
              "</tr>\n",
              "<tr>\n",
              "  <th>Sample:</th>                          <td>0</td>                <th>  HQIC               </th>  <td>607.671</td>\n",
              "</tr>\n",
              "<tr>\n",
              "  <th></th>                              <td> - 109</td>              <th>                     </th>     <td> </td>   \n",
              "</tr>\n",
              "<tr>\n",
              "  <th>Covariance Type:</th>                <td>opg</td>               <th>                     </th>     <td> </td>   \n",
              "</tr>\n",
              "</table>\n",
              "<table class=\"simpletable\">\n",
              "<tr>\n",
              "      <td></td>        <th>coef</th>     <th>std err</th>      <th>z</th>      <th>P>|z|</th>  <th>[0.025</th>    <th>0.975]</th>  \n",
              "</tr>\n",
              "<tr>\n",
              "  <th>ar.L1</th>    <td>   -0.4427</td> <td>    0.091</td> <td>   -4.886</td> <td> 0.000</td> <td>   -0.620</td> <td>   -0.265</td>\n",
              "</tr>\n",
              "<tr>\n",
              "  <th>ma.S.L12</th> <td>   -0.4512</td> <td>    0.123</td> <td>   -3.670</td> <td> 0.000</td> <td>   -0.692</td> <td>   -0.210</td>\n",
              "</tr>\n",
              "<tr>\n",
              "  <th>sigma2</th>   <td>   28.9743</td> <td>    4.671</td> <td>    6.203</td> <td> 0.000</td> <td>   19.819</td> <td>   38.129</td>\n",
              "</tr>\n",
              "</table>\n",
              "<table class=\"simpletable\">\n",
              "<tr>\n",
              "  <th>Ljung-Box (L1) (Q):</th>     <td>0.00</td> <th>  Jarque-Bera (JB):  </th> <td>2.53</td>\n",
              "</tr>\n",
              "<tr>\n",
              "  <th>Prob(Q):</th>                <td>0.95</td> <th>  Prob(JB):          </th> <td>0.28</td>\n",
              "</tr>\n",
              "<tr>\n",
              "  <th>Heteroskedasticity (H):</th> <td>2.06</td> <th>  Skew:              </th> <td>0.40</td>\n",
              "</tr>\n",
              "<tr>\n",
              "  <th>Prob(H) (two-sided):</th>    <td>0.05</td> <th>  Kurtosis:          </th> <td>2.94</td>\n",
              "</tr>\n",
              "</table><br/><br/>Warnings:<br/>[1] Covariance matrix calculated using the outer product of gradients (complex-step)."
            ],
            "text/plain": [
              "<class 'statsmodels.iolib.summary.Summary'>\n",
              "\"\"\"\n",
              "                                      SARIMAX Results                                       \n",
              "============================================================================================\n",
              "Dep. Variable:                                    y   No. Observations:                  109\n",
              "Model:             SARIMAX(1, 1, 0)x(0, 1, [1], 12)   Log Likelihood                -299.281\n",
              "Date:                              Tue, 12 Jan 2021   AIC                            604.561\n",
              "Time:                                      12:36:08   BIC                            612.255\n",
              "Sample:                                           0   HQIC                           607.671\n",
              "                                              - 109                                         \n",
              "Covariance Type:                                opg                                         \n",
              "==============================================================================\n",
              "                 coef    std err          z      P>|z|      [0.025      0.975]\n",
              "------------------------------------------------------------------------------\n",
              "ar.L1         -0.4427      0.091     -4.886      0.000      -0.620      -0.265\n",
              "ma.S.L12      -0.4512      0.123     -3.670      0.000      -0.692      -0.210\n",
              "sigma2        28.9743      4.671      6.203      0.000      19.819      38.129\n",
              "===================================================================================\n",
              "Ljung-Box (L1) (Q):                   0.00   Jarque-Bera (JB):                 2.53\n",
              "Prob(Q):                              0.95   Prob(JB):                         0.28\n",
              "Heteroskedasticity (H):               2.06   Skew:                             0.40\n",
              "Prob(H) (two-sided):                  0.05   Kurtosis:                         2.94\n",
              "===================================================================================\n",
              "\n",
              "Warnings:\n",
              "[1] Covariance matrix calculated using the outer product of gradients (complex-step).\n",
              "\"\"\""
            ]
          },
          "metadata": {
            "tags": []
          },
          "execution_count": 20
        }
      ]
    },
    {
      "cell_type": "code",
      "metadata": {
        "id": "3kpgtAOUlu7p"
      },
      "source": [
        "from statsmodels.tsa.statespace.sarimax import SARIMAX \n",
        "model = SARIMAX(data_ts_forecast,order = (0, 1, 1),seasonal_order =(2, 1, 1, 12))"
      ],
      "execution_count": null,
      "outputs": []
    },
    {
      "cell_type": "code",
      "metadata": {
        "colab": {
          "base_uri": "https://localhost:8080/",
          "height": 473
        },
        "id": "wwONCRfAmtAO",
        "outputId": "1e5d1110-cd39-4900-e84f-072bd8ac026e"
      },
      "source": [
        "result = model.fit() \n",
        "result.summary() "
      ],
      "execution_count": null,
      "outputs": [
        {
          "output_type": "execute_result",
          "data": {
            "text/html": [
              "<table class=\"simpletable\">\n",
              "<caption>SARIMAX Results</caption>\n",
              "<tr>\n",
              "  <th>Dep. Variable:</th>                 <td>x2</td>               <th>  No. Observations:  </th>    <td>109</td>  \n",
              "</tr>\n",
              "<tr>\n",
              "  <th>Model:</th>           <td>SARIMAX(0, 1, 1)x(2, 1, 1, 12)</td> <th>  Log Likelihood     </th> <td>-299.583</td>\n",
              "</tr>\n",
              "<tr>\n",
              "  <th>Date:</th>                   <td>Tue, 12 Jan 2021</td>        <th>  AIC                </th>  <td>609.167</td>\n",
              "</tr>\n",
              "<tr>\n",
              "  <th>Time:</th>                       <td>12:40:56</td>            <th>  BIC                </th>  <td>621.989</td>\n",
              "</tr>\n",
              "<tr>\n",
              "  <th>Sample:</th>                         <td>0</td>               <th>  HQIC               </th>  <td>614.350</td>\n",
              "</tr>\n",
              "<tr>\n",
              "  <th></th>                             <td> - 109</td>             <th>                     </th>     <td> </td>   \n",
              "</tr>\n",
              "<tr>\n",
              "  <th>Covariance Type:</th>               <td>opg</td>              <th>                     </th>     <td> </td>   \n",
              "</tr>\n",
              "</table>\n",
              "<table class=\"simpletable\">\n",
              "<tr>\n",
              "      <td></td>        <th>coef</th>     <th>std err</th>      <th>z</th>      <th>P>|z|</th>  <th>[0.025</th>    <th>0.975]</th>  \n",
              "</tr>\n",
              "<tr>\n",
              "  <th>ma.L1</th>    <td>   -0.4367</td> <td>    0.089</td> <td>   -4.891</td> <td> 0.000</td> <td>   -0.612</td> <td>   -0.262</td>\n",
              "</tr>\n",
              "<tr>\n",
              "  <th>ar.S.L12</th> <td>   -0.8506</td> <td>    0.617</td> <td>   -1.379</td> <td> 0.168</td> <td>   -2.060</td> <td>    0.359</td>\n",
              "</tr>\n",
              "<tr>\n",
              "  <th>ar.S.L24</th> <td>   -0.3210</td> <td>    0.298</td> <td>   -1.079</td> <td> 0.281</td> <td>   -0.904</td> <td>    0.262</td>\n",
              "</tr>\n",
              "<tr>\n",
              "  <th>ma.S.L12</th> <td>    0.3267</td> <td>    0.649</td> <td>    0.504</td> <td> 0.615</td> <td>   -0.945</td> <td>    1.598</td>\n",
              "</tr>\n",
              "<tr>\n",
              "  <th>sigma2</th>   <td>   28.8711</td> <td>    4.377</td> <td>    6.597</td> <td> 0.000</td> <td>   20.293</td> <td>   37.449</td>\n",
              "</tr>\n",
              "</table>\n",
              "<table class=\"simpletable\">\n",
              "<tr>\n",
              "  <th>Ljung-Box (L1) (Q):</th>     <td>0.07</td> <th>  Jarque-Bera (JB):  </th> <td>1.70</td>\n",
              "</tr>\n",
              "<tr>\n",
              "  <th>Prob(Q):</th>                <td>0.79</td> <th>  Prob(JB):          </th> <td>0.43</td>\n",
              "</tr>\n",
              "<tr>\n",
              "  <th>Heteroskedasticity (H):</th> <td>2.03</td> <th>  Skew:              </th> <td>0.32</td>\n",
              "</tr>\n",
              "<tr>\n",
              "  <th>Prob(H) (two-sided):</th>    <td>0.05</td> <th>  Kurtosis:          </th> <td>3.05</td>\n",
              "</tr>\n",
              "</table><br/><br/>Warnings:<br/>[1] Covariance matrix calculated using the outer product of gradients (complex-step)."
            ],
            "text/plain": [
              "<class 'statsmodels.iolib.summary.Summary'>\n",
              "\"\"\"\n",
              "                                     SARIMAX Results                                      \n",
              "==========================================================================================\n",
              "Dep. Variable:                                 x2   No. Observations:                  109\n",
              "Model:             SARIMAX(0, 1, 1)x(2, 1, 1, 12)   Log Likelihood                -299.583\n",
              "Date:                            Tue, 12 Jan 2021   AIC                            609.167\n",
              "Time:                                    12:40:56   BIC                            621.989\n",
              "Sample:                                         0   HQIC                           614.350\n",
              "                                            - 109                                         \n",
              "Covariance Type:                              opg                                         \n",
              "==============================================================================\n",
              "                 coef    std err          z      P>|z|      [0.025      0.975]\n",
              "------------------------------------------------------------------------------\n",
              "ma.L1         -0.4367      0.089     -4.891      0.000      -0.612      -0.262\n",
              "ar.S.L12      -0.8506      0.617     -1.379      0.168      -2.060       0.359\n",
              "ar.S.L24      -0.3210      0.298     -1.079      0.281      -0.904       0.262\n",
              "ma.S.L12       0.3267      0.649      0.504      0.615      -0.945       1.598\n",
              "sigma2        28.8711      4.377      6.597      0.000      20.293      37.449\n",
              "===================================================================================\n",
              "Ljung-Box (L1) (Q):                   0.07   Jarque-Bera (JB):                 1.70\n",
              "Prob(Q):                              0.79   Prob(JB):                         0.43\n",
              "Heteroskedasticity (H):               2.03   Skew:                             0.32\n",
              "Prob(H) (two-sided):                  0.05   Kurtosis:                         3.05\n",
              "===================================================================================\n",
              "\n",
              "Warnings:\n",
              "[1] Covariance matrix calculated using the outer product of gradients (complex-step).\n",
              "\"\"\""
            ]
          },
          "metadata": {
            "tags": []
          },
          "execution_count": 25
        }
      ]
    },
    {
      "cell_type": "code",
      "metadata": {
        "colab": {
          "base_uri": "https://localhost:8080/",
          "height": 282
        },
        "id": "XzITQmBwnQmB",
        "outputId": "f524cf55-9ce5-42e3-8b8f-0f42adf8c3c5"
      },
      "source": [
        "\n",
        "start = len(data_ts_forecast) \n",
        "end = len(data_ts_forecast) + 12 - 1\n",
        "  \n",
        "# Predictions for one-year against the test set \n",
        "predictions = result.predict(start, end, \n",
        "                             typ = 'levels').rename(\"Predictions\") \n",
        "  \n",
        "\n",
        "predictions.plot(legend = True) \n",
        "#test['# Passengers'].plot(legend = True) \n"
      ],
      "execution_count": null,
      "outputs": [
        {
          "output_type": "execute_result",
          "data": {
            "text/plain": [
              "<matplotlib.axes._subplots.AxesSubplot at 0x7f1a0a89a7f0>"
            ]
          },
          "metadata": {
            "tags": []
          },
          "execution_count": 27
        },
        {
          "output_type": "display_data",
          "data": {
            "image/png": "[encoded data removed]",
            "text/plain": [
              "<Figure size 432x288 with 1 Axes>"
            ]
          },
          "metadata": {
            "tags": [],
            "needs_background": "light"
          }
        }
      ]
    },
    {
      "cell_type": "code",
      "metadata": {
        "id": "Rzbis08Dnoqy"
      },
      "source": [
        ""
      ],
      "execution_count": null,
      "outputs": []
    }
  ]
}